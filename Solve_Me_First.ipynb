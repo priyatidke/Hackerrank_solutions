{
  "nbformat": 4,
  "nbformat_minor": 0,
  "metadata": {
    "colab": {
      "name": "Solve_Me_First.ipynb",
      "provenance": [],
      "authorship_tag": "ABX9TyOYScyRWJ9zaU6w1xToPlpq",
      "include_colab_link": true
    },
    "kernelspec": {
      "name": "python3",
      "display_name": "Python 3"
    }
  },
  "cells": [
    {
      "cell_type": "markdown",
      "metadata": {
        "id": "view-in-github",
        "colab_type": "text"
      },
      "source": [
        "<a href=\"https://colab.research.google.com/github/priyatidke/Hackerrank_solutions/blob/master/Solve_Me_First.ipynb\" target=\"_parent\"><img src=\"https://colab.research.google.com/assets/colab-badge.svg\" alt=\"Open In Colab\"/></a>"
      ]
    },
    {
      "cell_type": "code",
      "metadata": {
        "id": "KDx7-B2o7vhi",
        "colab_type": "code",
        "colab": {}
      },
      "source": [
        "#1st program on Hackerrank\n",
        "\n",
        "\"\"\"Complete the function solveMeFirst to compute the sum of two integers.\n",
        "\n",
        "Function prototype:\n",
        "\n",
        "int solveMeFirst(int a, int b);\n",
        "\n",
        "where,\n",
        "\n",
        "a is the first integer input.\n",
        "b is the second integer input\n",
        "Return values\n",
        "\n",
        "sum of the above two integers\n",
        "Sample Input\n",
        "\n",
        "a = 2\n",
        "b = 3\n",
        "Sample Output\n",
        "\n",
        "5\n",
        "Explanation\n",
        "\n",
        "The sum of the two integers a and b is computed as:2+3=5 .\"\"\"\n",
        "\n",
        "\n",
        "def solveMeFirst(a,b):\n",
        "     return(a+b)\n",
        "num1 = int(input())\n",
        "num2 = int(input())\n",
        "res = solveMeFirst(num1,num2)\n",
        "print(res)"
      ],
      "execution_count": null,
      "outputs": []
    }
  ]
}