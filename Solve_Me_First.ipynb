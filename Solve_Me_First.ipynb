{
  "nbformat": 4,
  "nbformat_minor": 0,
  "metadata": {
    "colab": {
      "name": "Solve_Me_First.ipynb",
      "provenance": [],
      "authorship_tag": "ABX9TyOqc9jH56cSMaIwgslFQKYC",
      "include_colab_link": true
    },
    "kernelspec": {
      "name": "python3",
      "display_name": "Python 3"
    }
  },
  "cells": [
    {
      "cell_type": "markdown",
      "metadata": {
        "id": "view-in-github",
        "colab_type": "text"
      },
      "source": [
        "<a href=\"https://colab.research.google.com/github/priyatidke/Hackerrank_solutions/blob/master/Solve_Me_First.ipynb\" target=\"_parent\"><img src=\"https://colab.research.google.com/assets/colab-badge.svg\" alt=\"Open In Colab\"/></a>"
      ]
    },
    {
      "cell_type": "code",
      "metadata": {
        "id": "KDx7-B2o7vhi",
        "colab_type": "code",
        "colab": {}
      },
      "source": [
        "#1st program on Hackerrank\n",
        "\n",
        "def solveMeFirst(a,b):\n",
        "\t# Hint: Type return a+b below\n",
        "     return(a+b)\n",
        "num1 = int(input())\n",
        "num2 = int(input())\n",
        "res = solveMeFirst(num1,num2)\n",
        "print(res)"
      ],
      "execution_count": null,
      "outputs": []
    }
  ]
}