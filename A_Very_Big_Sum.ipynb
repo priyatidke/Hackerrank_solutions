{
  "nbformat": 4,
  "nbformat_minor": 0,
  "metadata": {
    "colab": {
      "name": "A_Very_Big_Sum.ipynb",
      "provenance": [],
      "authorship_tag": "ABX9TyPqupvRnXl+Efo/ZtNT+wzd",
      "include_colab_link": true
    },
    "kernelspec": {
      "name": "python3",
      "display_name": "Python 3"
    }
  },
  "cells": [
    {
      "cell_type": "markdown",
      "metadata": {
        "id": "view-in-github",
        "colab_type": "text"
      },
      "source": [
        "<a href=\"https://colab.research.google.com/github/priyatidke/Hackerrank_solutions/blob/master/A_Very_Big_Sum.ipynb\" target=\"_parent\"><img src=\"https://colab.research.google.com/assets/colab-badge.svg\" alt=\"Open In Colab\"/></a>"
      ]
    },
    {
      "cell_type": "code",
      "metadata": {
        "id": "KDx7-B2o7vhi",
        "colab_type": "code",
        "colab": {}
      },
      "source": [
        "#4 \n",
        "#A Very Big Sum\n",
        "\"\"\"In this challenge, you are required to calculate and print the sum of the elements in an array, \n",
        "keeping in mind that some of those integers may be quite large.\n",
        "\n",
        "Function Description\n",
        "\n",
        "Complete the aVeryBigSum function in the editor below. It must return the sum of all array elements.\n",
        "\n",
        "aVeryBigSum has the following parameter(s):\n",
        "\n",
        "int ar[n]: an array of integers .\n",
        "Return\n",
        "\n",
        "int: the sum of all array elements\n",
        "Input Format\n",
        "\n",
        "The first line of the input consists of an integer n.\n",
        "The next line contains n space-separated integers contained in the array.\n",
        "\n",
        "Output Format\n",
        "\n",
        "Return the integer sum of the elements in the array.\n",
        "\n",
        "Constraints\n",
        "1 <= n <= 10\n",
        "0 <= ar[i] <= 10 pow 10 \n",
        "\n",
        "Sample Input\n",
        "\n",
        "5\n",
        "1000000001 1000000002 1000000003 1000000004 1000000005\n",
        "Output\n",
        "\n",
        "5000000015\n",
        "Note:\n",
        "\n",
        "The range of the 32-bit integer is (-2 pow 31) to ((2 pow 31)-1) or [-2147483648, 2147483647]\n",
        "When we add several integer values, the resulting sum might exceed the above range. You might need to use long int C/C++/Java to store such sums.\n",
        "\n",
        "\"\"\"\n",
        "\n",
        "\n",
        "\n",
        "import math\n",
        "import os\n",
        "import random\n",
        "import re\n",
        "import sys\n",
        "\n",
        "# Complete the aVeryBigSum function below.\n",
        "def aVeryBigSum(ar):\n",
        "    sum =0\n",
        "    for element in ar:\n",
        "        print(\"initial  sum {}\".format(sum))\n",
        "        sum = sum + element\n",
        "        print(sum, element)\n",
        "    return sum\n",
        "\n",
        "if __name__ == '__main__':\n",
        "    fptr = open(os.environ['OUTPUT_PATH'], 'w')\n",
        "\n",
        "    ar_count = int(input())\n",
        "\n",
        "    ar = list(map(int, input().rstrip().split()))\n",
        "\n",
        "    result = aVeryBigSum(ar)\n",
        "\n",
        "    fptr.write(str(result) + '\\n')\n",
        "\n",
        "    fptr.close()\n",
        "\n",
        "\n"
      ],
      "execution_count": null,
      "outputs": []
    }
  ]
}