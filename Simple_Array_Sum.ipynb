{
  "nbformat": 4,
  "nbformat_minor": 0,
  "metadata": {
    "colab": {
      "name": "Simple_Array_Sum.ipynb",
      "provenance": [],
      "authorship_tag": "ABX9TyPBQ9XVQwoSO2ydYkKOc/x5"
    },
    "kernelspec": {
      "name": "python3",
      "display_name": "Python 3"
    }
  },
  "cells": [
    {
      "cell_type": "code",
      "metadata": {
        "id": "KDx7-B2o7vhi",
        "colab_type": "code",
        "colab": {}
      },
      "source": [
        "#2nd program on Hackerrank\n",
        "\n",
        "\n",
        "import os\n",
        "import sys\n",
        "\n",
        "#\n",
        "# Complete the simpleArraySum function below.\n",
        "#\n",
        "def simpleArraySum(ar):\n",
        "    result=sum(ar) \n",
        "    return result\n",
        "if __name__ == '__main__':\n",
        "    fptr = open(os.environ['OUTPUT_PATH'], 'w')\n",
        "\n",
        "    ar_count = int(input())\n",
        "\n",
        "    ar = list(map(int, input().rstrip().split()))\n",
        "\n",
        "    result = simpleArraySum(ar)\n",
        "\n",
        "    fptr.write(str(result) + '\\n')\n",
        "\n",
        "    fptr.close()\n"
      ],
      "execution_count": null,
      "outputs": []
    }
  ]
}